{
 "cells": [
  {
   "cell_type": "markdown",
   "metadata": {},
   "source": [
    "## Matthew Grace"
   ]
  },
  {
   "cell_type": "markdown",
   "metadata": {},
   "source": [
    "# What correlations are there between sentiment of Amazon reviews and the rating of a product from that reviewer? Do review lengths affect how much praise or hate a reviewer will give a product?"
   ]
  },
  {
   "cell_type": "markdown",
   "metadata": {},
   "source": [
    "To investigate these questions, I will use my dataset of reviews for Amazon products. These products are sports products mainly related to rugby and soccer. A sentiment analysis can be conducted on the reviews, and an analysis comparing rating with sentiment can be done.\n",
    "\n",
    "First, necessary import statements and inital setup of our data."
   ]
  },
  {
   "cell_type": "code",
   "execution_count": 1,
   "metadata": {},
   "outputs": [],
   "source": [
    "%matplotlib inline\n",
    "import numpy as np\n",
    "import pandas as pd\n",
    "import matplotlib\n",
    "import matplotlib.pyplot as plt\n",
    "import sklearn"
   ]
  },
  {
   "cell_type": "code",
   "execution_count": 2,
   "metadata": {
    "scrolled": true
   },
   "outputs": [
    {
     "data": {
      "text/html": [
       "<div>\n",
       "<style scoped>\n",
       "    .dataframe tbody tr th:only-of-type {\n",
       "        vertical-align: middle;\n",
       "    }\n",
       "\n",
       "    .dataframe tbody tr th {\n",
       "        vertical-align: top;\n",
       "    }\n",
       "\n",
       "    .dataframe thead th {\n",
       "        text-align: right;\n",
       "    }\n",
       "</style>\n",
       "<table border=\"1\" class=\"dataframe\">\n",
       "  <thead>\n",
       "    <tr style=\"text-align: right;\">\n",
       "      <th></th>\n",
       "      <th>Product Name</th>\n",
       "      <th>Rating</th>\n",
       "      <th>Date</th>\n",
       "      <th>Author</th>\n",
       "      <th>Body</th>\n",
       "      <th>Link</th>\n",
       "    </tr>\n",
       "  </thead>\n",
       "  <tbody>\n",
       "    <tr>\n",
       "      <th>0</th>\n",
       "      <td>RHINO RUGBY Fitted Stretch Performance Game Da...</td>\n",
       "      <td>5.0</td>\n",
       "      <td>September 11, 2019</td>\n",
       "      <td>XtinaG</td>\n",
       "      <td>There is great stretch and comfort to these sh...</td>\n",
       "      <td>https://amazon.com/RHINO-RUGBY-Fitted-Stretch-...</td>\n",
       "    </tr>\n",
       "    <tr>\n",
       "      <th>1</th>\n",
       "      <td>RHINO RUGBY Fitted Stretch Performance Game Da...</td>\n",
       "      <td>1.0</td>\n",
       "      <td>January 3, 2020</td>\n",
       "      <td>Amazon Customer</td>\n",
       "      <td>Im a medium 31 or 32 waist on every thing i bu...</td>\n",
       "      <td>https://amazon.com/RHINO-RUGBY-Fitted-Stretch-...</td>\n",
       "    </tr>\n",
       "    <tr>\n",
       "      <th>2</th>\n",
       "      <td>RHINO RUGBY Fitted Stretch Performance Game Da...</td>\n",
       "      <td>5.0</td>\n",
       "      <td>August 4, 2019</td>\n",
       "      <td>XtinaG</td>\n",
       "      <td>This was my first pair of rugby shorts. I tend...</td>\n",
       "      <td>https://amazon.com/RHINO-RUGBY-Fitted-Stretch-...</td>\n",
       "    </tr>\n",
       "    <tr>\n",
       "      <th>3</th>\n",
       "      <td>RHINO RUGBY Fitted Stretch Performance Game Da...</td>\n",
       "      <td>5.0</td>\n",
       "      <td>April 14, 2019</td>\n",
       "      <td>Amazon Customer</td>\n",
       "      <td>I did not want shorts that are tight on the wa...</td>\n",
       "      <td>https://amazon.com/RHINO-RUGBY-Fitted-Stretch-...</td>\n",
       "    </tr>\n",
       "    <tr>\n",
       "      <th>4</th>\n",
       "      <td>RHINO RUGBY Fitted Stretch Performance Game Da...</td>\n",
       "      <td>5.0</td>\n",
       "      <td>March 13, 2019</td>\n",
       "      <td>Garrett</td>\n",
       "      <td>Well made, heavy fabric.  The flexible materia...</td>\n",
       "      <td>https://amazon.com/RHINO-RUGBY-Fitted-Stretch-...</td>\n",
       "    </tr>\n",
       "  </tbody>\n",
       "</table>\n",
       "</div>"
      ],
      "text/plain": [
       "                                        Product Name  Rating  \\\n",
       "0  RHINO RUGBY Fitted Stretch Performance Game Da...     5.0   \n",
       "1  RHINO RUGBY Fitted Stretch Performance Game Da...     1.0   \n",
       "2  RHINO RUGBY Fitted Stretch Performance Game Da...     5.0   \n",
       "3  RHINO RUGBY Fitted Stretch Performance Game Da...     5.0   \n",
       "4  RHINO RUGBY Fitted Stretch Performance Game Da...     5.0   \n",
       "\n",
       "                 Date           Author  \\\n",
       "0  September 11, 2019           XtinaG   \n",
       "1     January 3, 2020  Amazon Customer   \n",
       "2      August 4, 2019           XtinaG   \n",
       "3      April 14, 2019  Amazon Customer   \n",
       "4      March 13, 2019          Garrett   \n",
       "\n",
       "                                                Body  \\\n",
       "0  There is great stretch and comfort to these sh...   \n",
       "1  Im a medium 31 or 32 waist on every thing i bu...   \n",
       "2  This was my first pair of rugby shorts. I tend...   \n",
       "3  I did not want shorts that are tight on the wa...   \n",
       "4  Well made, heavy fabric.  The flexible materia...   \n",
       "\n",
       "                                                Link  \n",
       "0  https://amazon.com/RHINO-RUGBY-Fitted-Stretch-...  \n",
       "1  https://amazon.com/RHINO-RUGBY-Fitted-Stretch-...  \n",
       "2  https://amazon.com/RHINO-RUGBY-Fitted-Stretch-...  \n",
       "3  https://amazon.com/RHINO-RUGBY-Fitted-Stretch-...  \n",
       "4  https://amazon.com/RHINO-RUGBY-Fitted-Stretch-...  "
      ]
     },
     "execution_count": 2,
     "metadata": {},
     "output_type": "execute_result"
    }
   ],
   "source": [
    "data = pd.read_csv('amazon_reviews.csv')\n",
    "data.head()"
   ]
  },
  {
   "cell_type": "markdown",
   "metadata": {},
   "source": [
    "Now, changes to the Frame can begin along with further analysis. A bag of words column will be added to the data DataFrame to start. along with the length of each review's bag of words. Also, a bag of all the reviews will be made. This \"bag\" is a list of all of the words from a customer's review."
   ]
  },
  {
   "cell_type": "code",
   "execution_count": 3,
   "metadata": {},
   "outputs": [
    {
     "name": "stdout",
     "output_type": "stream",
     "text": [
      "[\"i've\", 'had', 'bad', 'experience', 'buying', 'shorts', 'always', '3', 'sizes', 'to', 'big']\n"
     ]
    }
   ],
   "source": [
    "data['bag'] = data.Body.map(lambda b: b.strip(',.;?!:').replace(',',' ')\n",
    "                            .replace('.',' ').replace('?',' ')\n",
    "                            .replace('!',' ').replace(':',' ')\n",
    "                            .replace(';',' ').lower().split())\n",
    "print(data.bag[10])\n",
    "\n"
   ]
  },
  {
   "cell_type": "code",
   "execution_count": 4,
   "metadata": {},
   "outputs": [
    {
     "name": "stdout",
     "output_type": "stream",
     "text": [
      "0    25\n",
      "1    37\n",
      "2    41\n",
      "3    50\n",
      "4    52\n",
      "Name: lens, dtype: int64\n"
     ]
    },
    {
     "data": {
      "text/plain": [
       "['there',\n",
       " 'is',\n",
       " 'great',\n",
       " 'stretch',\n",
       " 'and',\n",
       " 'comfort',\n",
       " 'to',\n",
       " 'these',\n",
       " 'shorts',\n",
       " 'while']"
      ]
     },
     "execution_count": 4,
     "metadata": {},
     "output_type": "execute_result"
    }
   ],
   "source": [
    "data['lens'] = data.bag.map(len)\n",
    "print(data.lens.head())\n",
    "bag_all = (' '.join(data.Body).lower().strip(',.;?!:').replace(',',' ')\n",
    "                            .replace('.',' ').replace('?',' ')\n",
    "                            .replace('!',' ').replace(':',' ')\n",
    "                            .replace(';',' ').split())\n",
    "                \n",
    "    \n",
    "bag_all[:10]"
   ]
  },
  {
   "cell_type": "markdown",
   "metadata": {},
   "source": [
    "With a proper and useful dataframe ready to use, sentiment analysis can be conducted."
   ]
  },
  {
   "cell_type": "code",
   "execution_count": 5,
   "metadata": {
    "scrolled": false
   },
   "outputs": [],
   "source": [
    "# create sets of positive and negative words from files\n",
    "pos = set(open('positive.txt').read().split())\n",
    "neg = set(open('negative.txt').read().split())\n"
   ]
  },
  {
   "cell_type": "markdown",
   "metadata": {},
   "source": [
    "At this point in my analysis I decided to coninute to add columns that I deedmed useful as I progress. Some columns related to senitment will be created."
   ]
  },
  {
   "cell_type": "code",
   "execution_count": 6,
   "metadata": {},
   "outputs": [],
   "source": [
    "data['numpos'] = data.bag.map(lambda p: len([w for w in p if w in pos])) # number of \n",
    "# positive words\n",
    "data['numneg'] = data.bag.map(lambda p: len([w for w in p if w in neg])) # number of \n",
    "# negaive words\n",
    "data['perpos'] = data.numpos / data.lens #\n",
    "data['perneg'] = data.numneg / data.lens\n",
    "data['numposneg'] = data.numpos + data.numneg\n",
    "data['perposneg'] = data.numposneg / data.lens"
   ]
  },
  {
   "cell_type": "code",
   "execution_count": 7,
   "metadata": {},
   "outputs": [
    {
     "data": {
      "text/html": [
       "<div>\n",
       "<style scoped>\n",
       "    .dataframe tbody tr th:only-of-type {\n",
       "        vertical-align: middle;\n",
       "    }\n",
       "\n",
       "    .dataframe tbody tr th {\n",
       "        vertical-align: top;\n",
       "    }\n",
       "\n",
       "    .dataframe thead th {\n",
       "        text-align: right;\n",
       "    }\n",
       "</style>\n",
       "<table border=\"1\" class=\"dataframe\">\n",
       "  <thead>\n",
       "    <tr style=\"text-align: right;\">\n",
       "      <th></th>\n",
       "      <th>Product Name</th>\n",
       "      <th>Rating</th>\n",
       "      <th>Date</th>\n",
       "      <th>Author</th>\n",
       "      <th>Body</th>\n",
       "      <th>Link</th>\n",
       "      <th>bag</th>\n",
       "      <th>lens</th>\n",
       "      <th>numpos</th>\n",
       "      <th>numneg</th>\n",
       "      <th>perpos</th>\n",
       "      <th>perneg</th>\n",
       "      <th>numposneg</th>\n",
       "      <th>perposneg</th>\n",
       "    </tr>\n",
       "  </thead>\n",
       "  <tbody>\n",
       "    <tr>\n",
       "      <th>0</th>\n",
       "      <td>RHINO RUGBY Fitted Stretch Performance Game Da...</td>\n",
       "      <td>5.0</td>\n",
       "      <td>September 11, 2019</td>\n",
       "      <td>XtinaG</td>\n",
       "      <td>There is great stretch and comfort to these sh...</td>\n",
       "      <td>https://amazon.com/RHINO-RUGBY-Fitted-Stretch-...</td>\n",
       "      <td>[there, is, great, stretch, and, comfort, to, ...</td>\n",
       "      <td>25</td>\n",
       "      <td>3</td>\n",
       "      <td>0</td>\n",
       "      <td>0.120000</td>\n",
       "      <td>0.000000</td>\n",
       "      <td>3</td>\n",
       "      <td>0.120000</td>\n",
       "    </tr>\n",
       "    <tr>\n",
       "      <th>1</th>\n",
       "      <td>RHINO RUGBY Fitted Stretch Performance Game Da...</td>\n",
       "      <td>1.0</td>\n",
       "      <td>January 3, 2020</td>\n",
       "      <td>Amazon Customer</td>\n",
       "      <td>Im a medium 31 or 32 waist on every thing i bu...</td>\n",
       "      <td>https://amazon.com/RHINO-RUGBY-Fitted-Stretch-...</td>\n",
       "      <td>[im, a, medium, 31, or, 32, waist, on, every, ...</td>\n",
       "      <td>37</td>\n",
       "      <td>0</td>\n",
       "      <td>0</td>\n",
       "      <td>0.000000</td>\n",
       "      <td>0.000000</td>\n",
       "      <td>0</td>\n",
       "      <td>0.000000</td>\n",
       "    </tr>\n",
       "    <tr>\n",
       "      <th>2</th>\n",
       "      <td>RHINO RUGBY Fitted Stretch Performance Game Da...</td>\n",
       "      <td>5.0</td>\n",
       "      <td>August 4, 2019</td>\n",
       "      <td>XtinaG</td>\n",
       "      <td>This was my first pair of rugby shorts. I tend...</td>\n",
       "      <td>https://amazon.com/RHINO-RUGBY-Fitted-Stretch-...</td>\n",
       "      <td>[this, was, my, first, pair, of, rugby, shorts...</td>\n",
       "      <td>41</td>\n",
       "      <td>5</td>\n",
       "      <td>1</td>\n",
       "      <td>0.121951</td>\n",
       "      <td>0.024390</td>\n",
       "      <td>6</td>\n",
       "      <td>0.146341</td>\n",
       "    </tr>\n",
       "    <tr>\n",
       "      <th>3</th>\n",
       "      <td>RHINO RUGBY Fitted Stretch Performance Game Da...</td>\n",
       "      <td>5.0</td>\n",
       "      <td>April 14, 2019</td>\n",
       "      <td>Amazon Customer</td>\n",
       "      <td>I did not want shorts that are tight on the wa...</td>\n",
       "      <td>https://amazon.com/RHINO-RUGBY-Fitted-Stretch-...</td>\n",
       "      <td>[i, did, not, want, shorts, that, are, tight, ...</td>\n",
       "      <td>50</td>\n",
       "      <td>2</td>\n",
       "      <td>0</td>\n",
       "      <td>0.040000</td>\n",
       "      <td>0.000000</td>\n",
       "      <td>2</td>\n",
       "      <td>0.040000</td>\n",
       "    </tr>\n",
       "    <tr>\n",
       "      <th>4</th>\n",
       "      <td>RHINO RUGBY Fitted Stretch Performance Game Da...</td>\n",
       "      <td>5.0</td>\n",
       "      <td>March 13, 2019</td>\n",
       "      <td>Garrett</td>\n",
       "      <td>Well made, heavy fabric.  The flexible materia...</td>\n",
       "      <td>https://amazon.com/RHINO-RUGBY-Fitted-Stretch-...</td>\n",
       "      <td>[well, made, heavy, fabric, the, flexible, mat...</td>\n",
       "      <td>52</td>\n",
       "      <td>6</td>\n",
       "      <td>1</td>\n",
       "      <td>0.115385</td>\n",
       "      <td>0.019231</td>\n",
       "      <td>7</td>\n",
       "      <td>0.134615</td>\n",
       "    </tr>\n",
       "  </tbody>\n",
       "</table>\n",
       "</div>"
      ],
      "text/plain": [
       "                                        Product Name  Rating  \\\n",
       "0  RHINO RUGBY Fitted Stretch Performance Game Da...     5.0   \n",
       "1  RHINO RUGBY Fitted Stretch Performance Game Da...     1.0   \n",
       "2  RHINO RUGBY Fitted Stretch Performance Game Da...     5.0   \n",
       "3  RHINO RUGBY Fitted Stretch Performance Game Da...     5.0   \n",
       "4  RHINO RUGBY Fitted Stretch Performance Game Da...     5.0   \n",
       "\n",
       "                 Date           Author  \\\n",
       "0  September 11, 2019           XtinaG   \n",
       "1     January 3, 2020  Amazon Customer   \n",
       "2      August 4, 2019           XtinaG   \n",
       "3      April 14, 2019  Amazon Customer   \n",
       "4      March 13, 2019          Garrett   \n",
       "\n",
       "                                                Body  \\\n",
       "0  There is great stretch and comfort to these sh...   \n",
       "1  Im a medium 31 or 32 waist on every thing i bu...   \n",
       "2  This was my first pair of rugby shorts. I tend...   \n",
       "3  I did not want shorts that are tight on the wa...   \n",
       "4  Well made, heavy fabric.  The flexible materia...   \n",
       "\n",
       "                                                Link  \\\n",
       "0  https://amazon.com/RHINO-RUGBY-Fitted-Stretch-...   \n",
       "1  https://amazon.com/RHINO-RUGBY-Fitted-Stretch-...   \n",
       "2  https://amazon.com/RHINO-RUGBY-Fitted-Stretch-...   \n",
       "3  https://amazon.com/RHINO-RUGBY-Fitted-Stretch-...   \n",
       "4  https://amazon.com/RHINO-RUGBY-Fitted-Stretch-...   \n",
       "\n",
       "                                                 bag  lens  numpos  numneg  \\\n",
       "0  [there, is, great, stretch, and, comfort, to, ...    25       3       0   \n",
       "1  [im, a, medium, 31, or, 32, waist, on, every, ...    37       0       0   \n",
       "2  [this, was, my, first, pair, of, rugby, shorts...    41       5       1   \n",
       "3  [i, did, not, want, shorts, that, are, tight, ...    50       2       0   \n",
       "4  [well, made, heavy, fabric, the, flexible, mat...    52       6       1   \n",
       "\n",
       "     perpos    perneg  numposneg  perposneg  \n",
       "0  0.120000  0.000000          3   0.120000  \n",
       "1  0.000000  0.000000          0   0.000000  \n",
       "2  0.121951  0.024390          6   0.146341  \n",
       "3  0.040000  0.000000          2   0.040000  \n",
       "4  0.115385  0.019231          7   0.134615  "
      ]
     },
     "execution_count": 7,
     "metadata": {},
     "output_type": "execute_result"
    }
   ],
   "source": [
    "data.head()"
   ]
  },
  {
   "cell_type": "markdown",
   "metadata": {},
   "source": [
    "Now, the first analysis will be looking at summary stats and comparisons of sentiment with rankings. I am doing this to understand my dataset of reviews, and then I will attempt to make a metric for sentiment and decide how to proceed with further analysis."
   ]
  },
  {
   "cell_type": "code",
   "execution_count": 8,
   "metadata": {},
   "outputs": [
    {
     "name": "stdout",
     "output_type": "stream",
     "text": [
      "Average Rating 4.152088258471237\n",
      "Average Positive Words 1.7714736012608352\n",
      "Average Negative Words 0.4507486209613869\n",
      "Average Percent of Positive Words 0.18022185285154976\n",
      "Average Percent of Negative Words 0.01860594074932793\n"
     ]
    }
   ],
   "source": [
    "print('Average Rating', data.Rating.mean())\n",
    "print('Average Positive Words',data.numpos.mean())\n",
    "print('Average Negative Words',data.numneg.mean())\n",
    "print('Average Percent of Positive Words',data.perpos.mean())\n",
    "print('Average Percent of Negative Words',data.perneg.mean())\n"
   ]
  },
  {
   "cell_type": "markdown",
   "metadata": {},
   "source": [
    "Immediatley of note, there are way more positive words than negative words. This is almost certainly due to the fact that the average rating of our products is very high at about 4.15. Moving forward, instead of metricizing senitiment (which will be difficult with such small amount of negative sentiment) I will begin to use the columns for positive, negative, and overall intensity of senitment to look at correlations."
   ]
  },
  {
   "cell_type": "markdown",
   "metadata": {},
   "source": [
    "## Rating Correlations"
   ]
  },
  {
   "cell_type": "code",
   "execution_count": 9,
   "metadata": {},
   "outputs": [
    {
     "data": {
      "text/plain": [
       "Rating       1.000000\n",
       "lens        -0.094630\n",
       "numpos       0.173226\n",
       "numneg      -0.170782\n",
       "perpos       0.287601\n",
       "perneg      -0.220731\n",
       "numposneg    0.070780\n",
       "perposneg    0.244384\n",
       "Name: Rating, dtype: float64"
      ]
     },
     "execution_count": 9,
     "metadata": {},
     "output_type": "execute_result"
    }
   ],
   "source": [
    "#Rating Correlations\n",
    "data.corr().iloc[0,:]"
   ]
  },
  {
   "cell_type": "markdown",
   "metadata": {},
   "source": [
    "## Length Correlations"
   ]
  },
  {
   "cell_type": "code",
   "execution_count": 10,
   "metadata": {},
   "outputs": [
    {
     "name": "stdout",
     "output_type": "stream",
     "text": [
      "Rating      -0.094630\n",
      "lens         1.000000\n",
      "numpos       0.707259\n",
      "numneg       0.711057\n",
      "perpos      -0.283276\n",
      "perneg       0.060560\n",
      "numposneg    0.815215\n",
      "perposneg   -0.274180\n",
      "Name: lens, dtype: float64\n"
     ]
    }
   ],
   "source": [
    "#Length Correlations\n",
    "print(data.corr().iloc[1,:])"
   ]
  },
  {
   "cell_type": "markdown",
   "metadata": {},
   "source": [
    "## Visualizing the data"
   ]
  },
  {
   "cell_type": "code",
   "execution_count": 11,
   "metadata": {
    "scrolled": true
   },
   "outputs": [
    {
     "data": {
      "image/png": "[encoded data removed]",
      "text/plain": [
       "<Figure size 432x288 with 1 Axes>"
      ]
     },
     "metadata": {
      "needs_background": "light"
     },
     "output_type": "display_data"
    },
    {
     "data": {
      "image/png": "[encoded data removed]",
      "text/plain": [
       "<Figure size 432x288 with 1 Axes>"
      ]
     },
     "metadata": {
      "needs_background": "light"
     },
     "output_type": "display_data"
    },
    {
     "data": {
      "image/png": "[encoded data removed]",
      "text/plain": [
       "<Figure size 432x288 with 1 Axes>"
      ]
     },
     "metadata": {
      "needs_background": "light"
     },
     "output_type": "display_data"
    },
    {
     "data": {
      "image/png": "[encoded data removed]",
      "text/plain": [
       "<Figure size 432x288 with 1 Axes>"
      ]
     },
     "metadata": {
      "needs_background": "light"
     },
     "output_type": "display_data"
    }
   ],
   "source": [
    "data.plot.scatter(x='Rating',y='perpos',ylim=(0,0.5),title='Rating vs Percent Positive')\n",
    "plt.title('Rating vs Percent Positive');\n",
    "plt.xlabel('Review Rating(1-5 Star System)');\n",
    "plt.ylabel('Proportion of Words that are Positive');\n",
    "data.plot.scatter(x='Rating',y='perneg',ylim=(0,0.5),title='Rating vs Percent Negative')\n",
    "plt.title('Rating vs Percent Negative');\n",
    "plt.xlabel('Review Rating(1-5 Star System)');\n",
    "plt.ylabel('Proportion of Words that are Negative');\n",
    "data.plot.scatter(x='lens',y='perpos',ylim=(0,0.5),title='Length vs Percent Positive')\n",
    "plt.title('Review Length vs Percent Positive');\n",
    "plt.xlabel('Review Length(words)');\n",
    "plt.ylabel('Proportion of Words that are Positive');\n",
    "data.plot.scatter(x='lens',y='perneg',ylim=(0,0.5),title='Length vs Percent Negative')\n",
    "plt.title('Review Length vs Percent Negative');\n",
    "plt.xlabel('Review Length(words)');\n",
    "plt.ylabel('Proportion of Words that are Negative');\n"
   ]
  },
  {
   "cell_type": "markdown",
   "metadata": {},
   "source": [
    "The brief analysis shows that there is a weak correlation between rating and 'how' positive or negative a review is (using the percentage of words in the review that are positive or negative). This is interesting, as well as the slightly stronger correlation between review length and what percentage of the review is positive words, in comparison to the very weak correlation. Additionally, the length vs percentage plots show the potential for a log fit."
   ]
  },
  {
   "cell_type": "markdown",
   "metadata": {},
   "source": [
    "## Summary of Initial Analysis\n",
    "The intial analysis has shown that there are some correlations worthy of investigating further. There is a moderate correlation between positivity of reviews and their rating, as well as for negative. Also, there is a moderate and slightly stronger correlation between positivity of reviews and their length, in contrast to the very weak correlation between review negativity and length.\n",
    "\n",
    "### Main Finding\n",
    "The Amazon rating system, at a fundamental level, does a good job at representing the sentiment given in the reviews themselves. The ratings had a moderatley strong correlation with positivity at about r =0.24, while negative was about r=-0.28. These correlations match what a proper rating system would represent. As the ratings increase in value, the percentage of positive words will increase, and as the ratings decrease in value, the percentage of negative words in the reviews would increase. This matches what a rating system should fundamentally accomplish.\n",
    "\n",
    "### Next Step\n",
    "The main issue with this initial analysis has been that it is known there is a low sample size of negative reviews. For this reason, any further analysis regarding negativity in reviews will be much more difficult. \n",
    "\n",
    "Next, the main investigation will be into how review lengths affects the positivity of those positive reviews. \n",
    "\n",
    "Is there a reliable way to produce a way of predicting the positivity of a review, given that it is positive and has at least 1 positive keyword?"
   ]
  },
  {
   "cell_type": "markdown",
   "metadata": {},
   "source": [
    "This begins by changing the fit of our data. The graph represented data that can be fit to a log scale by initial appeareance (For reference it is the 3rd graph in the previous section)."
   ]
  },
  {
   "cell_type": "code",
   "execution_count": 12,
   "metadata": {},
   "outputs": [
    {
     "data": {
      "image/png": "[encoded data removed]",
      "text/plain": [
       "<Figure size 432x288 with 1 Axes>"
      ]
     },
     "metadata": {
      "needs_background": "light"
     },
     "output_type": "display_data"
    }
   ],
   "source": [
    "data.plot.scatter(x='lens',y='perpos',ylim=(0,0.5),title='Length vs Percent Positive(x on log scale)')\n",
    "plt.xscale('log')\n"
   ]
  },
  {
   "cell_type": "markdown",
   "metadata": {},
   "source": [
    "The plot is much cleaner."
   ]
  },
  {
   "cell_type": "code",
   "execution_count": 13,
   "metadata": {},
   "outputs": [
    {
     "name": "stdout",
     "output_type": "stream",
     "text": [
      "A= -0.0989554843401059\n",
      "B= 0.40725359104413805\n"
     ]
    }
   ],
   "source": [
    "#logfit the data\n",
    "A,B = np.polyfit(np.log(data.lens), data.perpos ,1)\n",
    "print('A=',A)\n",
    "print('B=',B)"
   ]
  },
  {
   "cell_type": "markdown",
   "metadata": {},
   "source": [
    "The following values plug into a predictive equation:\n",
    "Percent Positive = A*log(length) + B"
   ]
  },
  {
   "cell_type": "code",
   "execution_count": 14,
   "metadata": {},
   "outputs": [],
   "source": [
    "pred = []\n",
    "for i in data.lens:\n",
    "    pred.append((A*np.log(i)) + B)    "
   ]
  },
  {
   "cell_type": "code",
   "execution_count": 15,
   "metadata": {},
   "outputs": [
    {
     "name": "stdout",
     "output_type": "stream",
     "text": [
      "Accuracy of Model: 85.08520856586644\n"
     ]
    }
   ],
   "source": [
    "err = 0\n",
    "for i in range(0,len(pred)):\n",
    "    err = err + abs(data.perpos[i]-pred[i])\n",
    "err = err / len(pred)\n",
    "print('Accuracy of Model:', 100-err*100)"
   ]
  },
  {
   "cell_type": "code",
   "execution_count": 16,
   "metadata": {},
   "outputs": [
    {
     "data": {
      "image/png": "[encoded data removed]",
      "text/plain": [
       "<Figure size 432x288 with 1 Axes>"
      ]
     },
     "metadata": {
      "needs_background": "light"
     },
     "output_type": "display_data"
    }
   ],
   "source": [
    "plt.scatter(data.lens,pred,label=\"Predicted Proportion\")\n",
    "plt.scatter(data.lens,data.perpos, label=\"Real Proportion\",color='red')\n",
    "plt.legend()\n",
    "plt.title('Predicted Data vs Real Data: Review Length vs Percentage of Positive Words');\n",
    "plt.xlabel('Review Length(words)');\n",
    "plt.ylabel('Proportion of Words that are Positive');"
   ]
  },
  {
   "cell_type": "markdown",
   "metadata": {},
   "source": [
    "88% is a reasonable predictive accuracy, but I believe it can be better with a cleaned sample of data. In the previous plot, there is a line of outlier data that is the data points with a  percent positive value of 0. The new data will remove these, and perhaps a more accurate model can be built."
   ]
  },
  {
   "cell_type": "code",
   "execution_count": 17,
   "metadata": {},
   "outputs": [
    {
     "data": {
      "text/html": [
       "<div>\n",
       "<style scoped>\n",
       "    .dataframe tbody tr th:only-of-type {\n",
       "        vertical-align: middle;\n",
       "    }\n",
       "\n",
       "    .dataframe tbody tr th {\n",
       "        vertical-align: top;\n",
       "    }\n",
       "\n",
       "    .dataframe thead th {\n",
       "        text-align: right;\n",
       "    }\n",
       "</style>\n",
       "<table border=\"1\" class=\"dataframe\">\n",
       "  <thead>\n",
       "    <tr style=\"text-align: right;\">\n",
       "      <th></th>\n",
       "      <th>Product Name</th>\n",
       "      <th>Rating</th>\n",
       "      <th>Date</th>\n",
       "      <th>Author</th>\n",
       "      <th>Body</th>\n",
       "      <th>Link</th>\n",
       "      <th>bag</th>\n",
       "      <th>lens</th>\n",
       "      <th>numpos</th>\n",
       "      <th>numneg</th>\n",
       "      <th>perpos</th>\n",
       "      <th>perneg</th>\n",
       "      <th>numposneg</th>\n",
       "      <th>perposneg</th>\n",
       "    </tr>\n",
       "  </thead>\n",
       "  <tbody>\n",
       "    <tr>\n",
       "      <th>0</th>\n",
       "      <td>RHINO RUGBY Fitted Stretch Performance Game Da...</td>\n",
       "      <td>5.0</td>\n",
       "      <td>September 11, 2019</td>\n",
       "      <td>XtinaG</td>\n",
       "      <td>There is great stretch and comfort to these sh...</td>\n",
       "      <td>https://amazon.com/RHINO-RUGBY-Fitted-Stretch-...</td>\n",
       "      <td>[there, is, great, stretch, and, comfort, to, ...</td>\n",
       "      <td>25</td>\n",
       "      <td>3</td>\n",
       "      <td>0</td>\n",
       "      <td>0.120000</td>\n",
       "      <td>0.000000</td>\n",
       "      <td>3</td>\n",
       "      <td>0.120000</td>\n",
       "    </tr>\n",
       "    <tr>\n",
       "      <th>1</th>\n",
       "      <td>RHINO RUGBY Fitted Stretch Performance Game Da...</td>\n",
       "      <td>5.0</td>\n",
       "      <td>August 4, 2019</td>\n",
       "      <td>XtinaG</td>\n",
       "      <td>This was my first pair of rugby shorts. I tend...</td>\n",
       "      <td>https://amazon.com/RHINO-RUGBY-Fitted-Stretch-...</td>\n",
       "      <td>[this, was, my, first, pair, of, rugby, shorts...</td>\n",
       "      <td>41</td>\n",
       "      <td>5</td>\n",
       "      <td>1</td>\n",
       "      <td>0.121951</td>\n",
       "      <td>0.024390</td>\n",
       "      <td>6</td>\n",
       "      <td>0.146341</td>\n",
       "    </tr>\n",
       "    <tr>\n",
       "      <th>2</th>\n",
       "      <td>RHINO RUGBY Fitted Stretch Performance Game Da...</td>\n",
       "      <td>5.0</td>\n",
       "      <td>April 14, 2019</td>\n",
       "      <td>Amazon Customer</td>\n",
       "      <td>I did not want shorts that are tight on the wa...</td>\n",
       "      <td>https://amazon.com/RHINO-RUGBY-Fitted-Stretch-...</td>\n",
       "      <td>[i, did, not, want, shorts, that, are, tight, ...</td>\n",
       "      <td>50</td>\n",
       "      <td>2</td>\n",
       "      <td>0</td>\n",
       "      <td>0.040000</td>\n",
       "      <td>0.000000</td>\n",
       "      <td>2</td>\n",
       "      <td>0.040000</td>\n",
       "    </tr>\n",
       "    <tr>\n",
       "      <th>3</th>\n",
       "      <td>RHINO RUGBY Fitted Stretch Performance Game Da...</td>\n",
       "      <td>5.0</td>\n",
       "      <td>March 13, 2019</td>\n",
       "      <td>Garrett</td>\n",
       "      <td>Well made, heavy fabric.  The flexible materia...</td>\n",
       "      <td>https://amazon.com/RHINO-RUGBY-Fitted-Stretch-...</td>\n",
       "      <td>[well, made, heavy, fabric, the, flexible, mat...</td>\n",
       "      <td>52</td>\n",
       "      <td>6</td>\n",
       "      <td>1</td>\n",
       "      <td>0.115385</td>\n",
       "      <td>0.019231</td>\n",
       "      <td>7</td>\n",
       "      <td>0.134615</td>\n",
       "    </tr>\n",
       "    <tr>\n",
       "      <th>4</th>\n",
       "      <td>RHINO RUGBY Fitted Stretch Performance Game Da...</td>\n",
       "      <td>5.0</td>\n",
       "      <td>July 26, 2019</td>\n",
       "      <td>Chuck Davidson</td>\n",
       "      <td>They are a really good fit, other rugby shorts...</td>\n",
       "      <td>https://amazon.com/RHINO-RUGBY-Fitted-Stretch-...</td>\n",
       "      <td>[they, are, a, really, good, fit, other, rugby...</td>\n",
       "      <td>18</td>\n",
       "      <td>5</td>\n",
       "      <td>0</td>\n",
       "      <td>0.277778</td>\n",
       "      <td>0.000000</td>\n",
       "      <td>5</td>\n",
       "      <td>0.277778</td>\n",
       "    </tr>\n",
       "  </tbody>\n",
       "</table>\n",
       "</div>"
      ],
      "text/plain": [
       "                                        Product Name  Rating  \\\n",
       "0  RHINO RUGBY Fitted Stretch Performance Game Da...     5.0   \n",
       "1  RHINO RUGBY Fitted Stretch Performance Game Da...     5.0   \n",
       "2  RHINO RUGBY Fitted Stretch Performance Game Da...     5.0   \n",
       "3  RHINO RUGBY Fitted Stretch Performance Game Da...     5.0   \n",
       "4  RHINO RUGBY Fitted Stretch Performance Game Da...     5.0   \n",
       "\n",
       "                 Date           Author  \\\n",
       "0  September 11, 2019           XtinaG   \n",
       "1      August 4, 2019           XtinaG   \n",
       "2      April 14, 2019  Amazon Customer   \n",
       "3      March 13, 2019          Garrett   \n",
       "4       July 26, 2019   Chuck Davidson   \n",
       "\n",
       "                                                Body  \\\n",
       "0  There is great stretch and comfort to these sh...   \n",
       "1  This was my first pair of rugby shorts. I tend...   \n",
       "2  I did not want shorts that are tight on the wa...   \n",
       "3  Well made, heavy fabric.  The flexible materia...   \n",
       "4  They are a really good fit, other rugby shorts...   \n",
       "\n",
       "                                                Link  \\\n",
       "0  https://amazon.com/RHINO-RUGBY-Fitted-Stretch-...   \n",
       "1  https://amazon.com/RHINO-RUGBY-Fitted-Stretch-...   \n",
       "2  https://amazon.com/RHINO-RUGBY-Fitted-Stretch-...   \n",
       "3  https://amazon.com/RHINO-RUGBY-Fitted-Stretch-...   \n",
       "4  https://amazon.com/RHINO-RUGBY-Fitted-Stretch-...   \n",
       "\n",
       "                                                 bag  lens  numpos  numneg  \\\n",
       "0  [there, is, great, stretch, and, comfort, to, ...    25       3       0   \n",
       "1  [this, was, my, first, pair, of, rugby, shorts...    41       5       1   \n",
       "2  [i, did, not, want, shorts, that, are, tight, ...    50       2       0   \n",
       "3  [well, made, heavy, fabric, the, flexible, mat...    52       6       1   \n",
       "4  [they, are, a, really, good, fit, other, rugby...    18       5       0   \n",
       "\n",
       "     perpos    perneg  numposneg  perposneg  \n",
       "0  0.120000  0.000000          3   0.120000  \n",
       "1  0.121951  0.024390          6   0.146341  \n",
       "2  0.040000  0.000000          2   0.040000  \n",
       "3  0.115385  0.019231          7   0.134615  \n",
       "4  0.277778  0.000000          5   0.277778  "
      ]
     },
     "execution_count": 17,
     "metadata": {},
     "output_type": "execute_result"
    }
   ],
   "source": [
    "adj_data = data[data.perpos>0]\n",
    "adj_data.index = range(0,len(adj_data))\n",
    "#adj_data = adj_data.reindex(range(0,len(adj_data)),axis='index')\n",
    "adj_data.head()"
   ]
  },
  {
   "cell_type": "markdown",
   "metadata": {},
   "source": [
    "The new dataframe has data where there is at least 1 positive word. The same steps as before will now be applied to do new analysis."
   ]
  },
  {
   "cell_type": "code",
   "execution_count": 18,
   "metadata": {},
   "outputs": [
    {
     "data": {
      "image/png": "[encoded data removed]",
      "text/plain": [
       "<Figure size 432x288 with 1 Axes>"
      ]
     },
     "metadata": {
      "needs_background": "light"
     },
     "output_type": "display_data"
    }
   ],
   "source": [
    "adj_data.plot.scatter(x='lens',y='perpos',ylim=(0,0.5),\n",
    "                      title='Length vs Percent Positive(x on log scale)')\n",
    "plt.xlabel('Review Length(words)');\n",
    "plt.ylabel('Proportion of Words that are Positive');\n",
    "plt.xscale('log')"
   ]
  },
  {
   "cell_type": "code",
   "execution_count": 19,
   "metadata": {},
   "outputs": [
    {
     "name": "stdout",
     "output_type": "stream",
     "text": [
      "A= -0.16673824612706709\n",
      "B= 0.6634653466467709\n"
     ]
    }
   ],
   "source": [
    "#logfit the data\n",
    "AA,BB = np.polyfit(np.log(adj_data.lens), adj_data.perpos ,1)\n",
    "print('A=',AA)\n",
    "print('B=',BB)"
   ]
  },
  {
   "cell_type": "code",
   "execution_count": 20,
   "metadata": {},
   "outputs": [],
   "source": [
    "adj_pred = []\n",
    "for i in adj_data.lens:\n",
    "    adj_pred.append((AA*np.log(i)) + BB)    "
   ]
  },
  {
   "cell_type": "code",
   "execution_count": 21,
   "metadata": {},
   "outputs": [
    {
     "name": "stdout",
     "output_type": "stream",
     "text": [
      "Accuracy of Model: 88.63391728493401\n"
     ]
    }
   ],
   "source": [
    "adj_err = 0\n",
    "for i in range(0,len(adj_pred)):\n",
    "    adj_err = adj_err + abs(adj_data.perpos[i]-adj_pred[i])\n",
    "adj_err = adj_err / len(adj_pred)\n",
    "print('Accuracy of Model:', 100-adj_err*100)"
   ]
  },
  {
   "cell_type": "markdown",
   "metadata": {},
   "source": [
    "The accuracy has actually gone down, contrary to my initial thought improvements would be seen. Why is this? I will plot both the real and predictive data points to investigate."
   ]
  },
  {
   "cell_type": "code",
   "execution_count": 22,
   "metadata": {},
   "outputs": [
    {
     "data": {
      "image/png": "[encoded data removed]",
      "text/plain": [
       "<Figure size 432x288 with 1 Axes>"
      ]
     },
     "metadata": {
      "needs_background": "light"
     },
     "output_type": "display_data"
    }
   ],
   "source": [
    "plt.scatter(adj_data.lens,adj_pred,label=\"Predicted Proportion\")\n",
    "plt.scatter(adj_data.lens,adj_data.perpos, label=\"Real Proportion\",color='red')\n",
    "plt.legend();\n",
    "plt.title(\n",
    "    'Predicted Data vs Real Data: Review Length vs Percentage of Positive Words for adjusted data');\n",
    "plt.xlabel('Review Length(words)');\n",
    "plt.ylabel('Proportion of Words that are Positive');"
   ]
  },
  {
   "cell_type": "markdown",
   "metadata": {},
   "source": [
    "The model accounts for values beneath 0.0, but still for a large amount of the data is fairly accurate. "
   ]
  },
  {
   "cell_type": "markdown",
   "metadata": {},
   "source": [
    "# Conclusion\n",
    "## Final Analysis\n",
    "The final analysis for comparing review length to positivity revealed that there is correlation between the 2, and that it can even be modeled using a log fit with decent accuracy.\n",
    "\n",
    "## Explanation\n",
    "Amazon can make great use of these findings. They can use this to find a key review length where the percentage of the vocabulary that is positive words is high, but the review length is not extremley long. This is because the findings show that the longer reviews tend to wean off and not be as positive. If Amazon wants to put reviews to highlight the product, they can maximize praise for a product in this highlighted review by finding these medium length reviews, that are positive. This is compared to short reviews that don't give product details, or long reviews that will not highlight as many positive aspects of the product.\n",
    "\n",
    "As a final conclusion for all analysis, the ratings fundamentally do a good job of representing the sentiment of the review by the rating. Also, the positivity of a review can be predicted to a fairly accurate degree by the length of that review."
   ]
  },
  {
   "cell_type": "markdown",
   "metadata": {},
   "source": [
    "## Why cleaning my sample produced worse predictive results\n",
    "Looking at the pre-adjusted and adjusted data for the analysis, adjusting my data resulted in a worse predictive accuracy because the predictions lead into negative percentage territory. For this application (percentage of positive reviews for a product) the response variable being negative is non-existent in the real setting. When removing the 0% values from the dataframe, this meant that predictive values that were in the negative percentage category were didn't have the 0 percent data points to adjust the predictive fit. In reality, the inital predictive accuracy was innacurate, and the adjusted one better represents the reality of the data."
   ]
  }
 ],
 "metadata": {
  "kernelspec": {
   "display_name": "Python 3",
   "language": "python",
   "name": "python3"
  },
  "language_info": {
   "codemirror_mode": {
    "name": "ipython",
    "version": 3
   },
   "file_extension": ".py",
   "mimetype": "text/x-python",
   "name": "python",
   "nbconvert_exporter": "python",
   "pygments_lexer": "ipython3",
   "version": "3.7.3"
  }
 },
 "nbformat": 4,
 "nbformat_minor": 2
}
