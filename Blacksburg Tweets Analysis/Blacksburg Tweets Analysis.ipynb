{
 "cells": [
  {
   "cell_type": "markdown",
   "metadata": {},
   "source": [
    "Matthew Grace\n"
   ]
  },
  {
   "cell_type": "markdown",
   "metadata": {},
   "source": [
    "# What trending topics occurred at Virginia Tech over the last couple of months, and on what days did they occur?\n"
   ]
  },
  {
   "cell_type": "markdown",
   "metadata": {},
   "source": [
    "Leveraging tweets from the Blacksburg area, can certain events be identified using trends in the tweets? These questions can be answered using text analytics. The specific method will be the use of Term Frequency Matrices and TFIDF (Term Frequency Inverse Document Frequency) Matrices. This will allow certain words to be highlighted and analysis can be conducted to determine events."
   ]
  },
  {
   "cell_type": "markdown",
   "metadata": {},
   "source": [
    "Necessary imports and setup of an initial dataframe will be done first."
   ]
  },
  {
   "cell_type": "code",
   "execution_count": 4,
   "metadata": {},
   "outputs": [],
   "source": [
    "import pandas as pd\n",
    "import matplotlib\n",
    "import matplotlib.pyplot as plt\n",
    "import numpy as np\n",
    "import itertools\n",
    "import nltk\n",
    "from datetime import datetime\n",
    "from dateutil.parser import parse\n",
    "from pylab import rcParams\n",
    "from pandas.plotting import register_matplotlib_converters\n",
    "register_matplotlib_converters()"
   ]
  },
  {
   "cell_type": "code",
   "execution_count": 5,
   "metadata": {},
   "outputs": [],
   "source": [
    "tweet_data = pd.read_csv('VT_tweets_2019Fall_geo.csv')\n",
    "tweet_data['bag'] = tweet_data.tweet.map(lambda b: b.strip(',.;?!:').lower().split())\n",
    "tweet_data['lens'] = tweet_data.bag.map(len)\n"
   ]
  },
  {
   "cell_type": "code",
   "execution_count": 7,
   "metadata": {},
   "outputs": [],
   "source": [
    "tweet_data = tweet_data.loc[tweet_data['tweet_type'] != 'retweet'];\n",
    "tweet_data.index = range(0,len(tweet_data))\n",
    "tweet_data['datetime'] = pd.to_datetime(tweet_data['datetime'])\n",
    "tweet_data['date'] = tweet_data.datetime.map(lambda d: d.date())\n"
   ]
  },
  {
   "cell_type": "markdown",
   "metadata": {},
   "source": [
    "Now that a dataframe is setup with the bag of words, a TF and TFIDF matrix can be setup."
   ]
  },
  {
   "cell_type": "code",
   "execution_count": 8,
   "metadata": {},
   "outputs": [],
   "source": [
    "g = tweet_data.groupby('date')\n"
   ]
  },
  {
   "cell_type": "code",
   "execution_count": 9,
   "metadata": {},
   "outputs": [],
   "source": [
    "dates = g.bag.aggregate(lambda listofbags:list(itertools.chain.from_iterable(listofbags)))"
   ]
  },
  {
   "cell_type": "code",
   "execution_count": 10,
   "metadata": {},
   "outputs": [],
   "source": [
    "TF = dates.apply(lambda bag: pd.Series(bag).value_counts())"
   ]
  },
  {
   "cell_type": "code",
   "execution_count": 11,
   "metadata": {},
   "outputs": [],
   "source": [
    "IDF = np.log(len(TF)/TF.count())"
   ]
  },
  {
   "cell_type": "code",
   "execution_count": 12,
   "metadata": {},
   "outputs": [],
   "source": [
    "TFIDF = TF*IDF"
   ]
  },
  {
   "cell_type": "code",
   "execution_count": 13,
   "metadata": {},
   "outputs": [
    {
     "data": {
      "text/plain": [
       "62"
      ]
     },
     "execution_count": 13,
     "metadata": {},
     "output_type": "execute_result"
    }
   ],
   "source": [
    "len(TFIDF)"
   ]
  },
  {
   "cell_type": "code",
   "execution_count": 14,
   "metadata": {},
   "outputs": [
    {
     "data": {
      "text/html": [
       "<div>\n",
       "<style scoped>\n",
       "    .dataframe tbody tr th:only-of-type {\n",
       "        vertical-align: middle;\n",
       "    }\n",
       "\n",
       "    .dataframe tbody tr th {\n",
       "        vertical-align: top;\n",
       "    }\n",
       "\n",
       "    .dataframe thead th {\n",
       "        text-align: right;\n",
       "    }\n",
       "</style>\n",
       "<table border=\"1\" class=\"dataframe\">\n",
       "  <thead>\n",
       "    <tr style=\"text-align: right;\">\n",
       "      <th></th>\n",
       "      <th>the</th>\n",
       "      <th>a</th>\n",
       "      <th>to</th>\n",
       "      <th>i</th>\n",
       "      <th>and</th>\n",
       "      <th>is</th>\n",
       "      <th>of</th>\n",
       "      <th>in</th>\n",
       "      <th>for</th>\n",
       "      <th>you</th>\n",
       "      <th>...</th>\n",
       "      <th>@wilyxtower</th>\n",
       "      <th>https://t.co/sk57pomatq</th>\n",
       "      <th>https://t.co/lkgtjadx8a</th>\n",
       "      <th>https://t.co/dm71uck405</th>\n",
       "      <th>#leanmanufactu…https://t.co/h5pi007ucr</th>\n",
       "      <th>⬇️⬇️⬇️⬇️⬇️⬇️⬇️⬇️👀👀👀👀👀👀👀👀👀👀👀👀👀#hokies</th>\n",
       "      <th>babe...</th>\n",
       "      <th>#indispensable</th>\n",
       "      <th>begotten)</th>\n",
       "      <th>regression,</th>\n",
       "    </tr>\n",
       "    <tr>\n",
       "      <th>date</th>\n",
       "      <th></th>\n",
       "      <th></th>\n",
       "      <th></th>\n",
       "      <th></th>\n",
       "      <th></th>\n",
       "      <th></th>\n",
       "      <th></th>\n",
       "      <th></th>\n",
       "      <th></th>\n",
       "      <th></th>\n",
       "      <th></th>\n",
       "      <th></th>\n",
       "      <th></th>\n",
       "      <th></th>\n",
       "      <th></th>\n",
       "      <th></th>\n",
       "      <th></th>\n",
       "      <th></th>\n",
       "      <th></th>\n",
       "      <th></th>\n",
       "      <th></th>\n",
       "    </tr>\n",
       "  </thead>\n",
       "  <tbody>\n",
       "    <tr>\n",
       "      <th>2019-08-25</th>\n",
       "      <td>0.0</td>\n",
       "      <td>0.0</td>\n",
       "      <td>0.0</td>\n",
       "      <td>0.0</td>\n",
       "      <td>0.0</td>\n",
       "      <td>0.0</td>\n",
       "      <td>0.0</td>\n",
       "      <td>0.0</td>\n",
       "      <td>0.0</td>\n",
       "      <td>0.0</td>\n",
       "      <td>...</td>\n",
       "      <td>NaN</td>\n",
       "      <td>NaN</td>\n",
       "      <td>NaN</td>\n",
       "      <td>NaN</td>\n",
       "      <td>NaN</td>\n",
       "      <td>NaN</td>\n",
       "      <td>NaN</td>\n",
       "      <td>NaN</td>\n",
       "      <td>NaN</td>\n",
       "      <td>NaN</td>\n",
       "    </tr>\n",
       "    <tr>\n",
       "      <th>2019-08-26</th>\n",
       "      <td>0.0</td>\n",
       "      <td>0.0</td>\n",
       "      <td>0.0</td>\n",
       "      <td>0.0</td>\n",
       "      <td>0.0</td>\n",
       "      <td>0.0</td>\n",
       "      <td>0.0</td>\n",
       "      <td>0.0</td>\n",
       "      <td>0.0</td>\n",
       "      <td>0.0</td>\n",
       "      <td>...</td>\n",
       "      <td>NaN</td>\n",
       "      <td>NaN</td>\n",
       "      <td>NaN</td>\n",
       "      <td>NaN</td>\n",
       "      <td>NaN</td>\n",
       "      <td>NaN</td>\n",
       "      <td>NaN</td>\n",
       "      <td>NaN</td>\n",
       "      <td>NaN</td>\n",
       "      <td>NaN</td>\n",
       "    </tr>\n",
       "    <tr>\n",
       "      <th>2019-08-27</th>\n",
       "      <td>0.0</td>\n",
       "      <td>0.0</td>\n",
       "      <td>0.0</td>\n",
       "      <td>0.0</td>\n",
       "      <td>0.0</td>\n",
       "      <td>0.0</td>\n",
       "      <td>0.0</td>\n",
       "      <td>0.0</td>\n",
       "      <td>0.0</td>\n",
       "      <td>0.0</td>\n",
       "      <td>...</td>\n",
       "      <td>NaN</td>\n",
       "      <td>NaN</td>\n",
       "      <td>NaN</td>\n",
       "      <td>NaN</td>\n",
       "      <td>NaN</td>\n",
       "      <td>NaN</td>\n",
       "      <td>NaN</td>\n",
       "      <td>NaN</td>\n",
       "      <td>NaN</td>\n",
       "      <td>NaN</td>\n",
       "    </tr>\n",
       "    <tr>\n",
       "      <th>2019-08-28</th>\n",
       "      <td>0.0</td>\n",
       "      <td>0.0</td>\n",
       "      <td>0.0</td>\n",
       "      <td>0.0</td>\n",
       "      <td>0.0</td>\n",
       "      <td>0.0</td>\n",
       "      <td>0.0</td>\n",
       "      <td>0.0</td>\n",
       "      <td>0.0</td>\n",
       "      <td>0.0</td>\n",
       "      <td>...</td>\n",
       "      <td>NaN</td>\n",
       "      <td>NaN</td>\n",
       "      <td>NaN</td>\n",
       "      <td>NaN</td>\n",
       "      <td>NaN</td>\n",
       "      <td>NaN</td>\n",
       "      <td>NaN</td>\n",
       "      <td>NaN</td>\n",
       "      <td>NaN</td>\n",
       "      <td>NaN</td>\n",
       "    </tr>\n",
       "    <tr>\n",
       "      <th>2019-08-29</th>\n",
       "      <td>0.0</td>\n",
       "      <td>0.0</td>\n",
       "      <td>0.0</td>\n",
       "      <td>0.0</td>\n",
       "      <td>0.0</td>\n",
       "      <td>0.0</td>\n",
       "      <td>0.0</td>\n",
       "      <td>0.0</td>\n",
       "      <td>0.0</td>\n",
       "      <td>0.0</td>\n",
       "      <td>...</td>\n",
       "      <td>NaN</td>\n",
       "      <td>NaN</td>\n",
       "      <td>NaN</td>\n",
       "      <td>NaN</td>\n",
       "      <td>NaN</td>\n",
       "      <td>NaN</td>\n",
       "      <td>NaN</td>\n",
       "      <td>NaN</td>\n",
       "      <td>NaN</td>\n",
       "      <td>NaN</td>\n",
       "    </tr>\n",
       "  </tbody>\n",
       "</table>\n",
       "<p>5 rows × 204033 columns</p>\n",
       "</div>"
      ],
      "text/plain": [
       "            the    a   to    i  and   is   of   in  for  you  ...  \\\n",
       "date                                                          ...   \n",
       "2019-08-25  0.0  0.0  0.0  0.0  0.0  0.0  0.0  0.0  0.0  0.0  ...   \n",
       "2019-08-26  0.0  0.0  0.0  0.0  0.0  0.0  0.0  0.0  0.0  0.0  ...   \n",
       "2019-08-27  0.0  0.0  0.0  0.0  0.0  0.0  0.0  0.0  0.0  0.0  ...   \n",
       "2019-08-28  0.0  0.0  0.0  0.0  0.0  0.0  0.0  0.0  0.0  0.0  ...   \n",
       "2019-08-29  0.0  0.0  0.0  0.0  0.0  0.0  0.0  0.0  0.0  0.0  ...   \n",
       "\n",
       "            @wilyxtower  https://t.co/sk57pomatq  https://t.co/lkgtjadx8a  \\\n",
       "date                                                                        \n",
       "2019-08-25          NaN                      NaN                      NaN   \n",
       "2019-08-26          NaN                      NaN                      NaN   \n",
       "2019-08-27          NaN                      NaN                      NaN   \n",
       "2019-08-28          NaN                      NaN                      NaN   \n",
       "2019-08-29          NaN                      NaN                      NaN   \n",
       "\n",
       "            https://t.co/dm71uck405  #leanmanufactu…https://t.co/h5pi007ucr  \\\n",
       "date                                                                          \n",
       "2019-08-25                      NaN                                     NaN   \n",
       "2019-08-26                      NaN                                     NaN   \n",
       "2019-08-27                      NaN                                     NaN   \n",
       "2019-08-28                      NaN                                     NaN   \n",
       "2019-08-29                      NaN                                     NaN   \n",
       "\n",
       "            ⬇️⬇️⬇️⬇️⬇️⬇️⬇️⬇️👀👀👀👀👀👀👀👀👀👀👀👀👀#hokies  babe...  #indispensable  \\\n",
       "date                                                                        \n",
       "2019-08-25                                   NaN      NaN             NaN   \n",
       "2019-08-26                                   NaN      NaN             NaN   \n",
       "2019-08-27                                   NaN      NaN             NaN   \n",
       "2019-08-28                                   NaN      NaN             NaN   \n",
       "2019-08-29                                   NaN      NaN             NaN   \n",
       "\n",
       "            begotten)  regression,  \n",
       "date                                \n",
       "2019-08-25        NaN          NaN  \n",
       "2019-08-26        NaN          NaN  \n",
       "2019-08-27        NaN          NaN  \n",
       "2019-08-28        NaN          NaN  \n",
       "2019-08-29        NaN          NaN  \n",
       "\n",
       "[5 rows x 204033 columns]"
      ]
     },
     "execution_count": 14,
     "metadata": {},
     "output_type": "execute_result"
    }
   ],
   "source": [
    "TFIDF.head()"
   ]
  },
  {
   "cell_type": "code",
   "execution_count": 15,
   "metadata": {},
   "outputs": [],
   "source": [
    "TFIDF.index.names = ['Date']\n"
   ]
  },
  {
   "cell_type": "markdown",
   "metadata": {},
   "source": [
    "TFIDF Matrix has been computed, sorted by date, so that each of the tweets from the 62 days starting on August 25, 2019 have weights on the words contained in those tweets."
   ]
  },
  {
   "cell_type": "code",
   "execution_count": 16,
   "metadata": {},
   "outputs": [],
   "source": [
    "# add to list of words starting with '@', these columns will be\n",
    "# removed from the dataframe\n",
    "tfidf_cols = list(TFIDF.columns.values)\n",
    "remove_list = []\n",
    "for i in tfidf_cols:\n",
    "    if i[0] == '@':\n",
    "        remove_list.append(i)\n"
   ]
  },
  {
   "cell_type": "code",
   "execution_count": 17,
   "metadata": {
    "scrolled": true
   },
   "outputs": [
    {
     "data": {
      "text/html": [
       "<div>\n",
       "<style scoped>\n",
       "    .dataframe tbody tr th:only-of-type {\n",
       "        vertical-align: middle;\n",
       "    }\n",
       "\n",
       "    .dataframe tbody tr th {\n",
       "        vertical-align: top;\n",
       "    }\n",
       "\n",
       "    .dataframe thead th {\n",
       "        text-align: right;\n",
       "    }\n",
       "</style>\n",
       "<table border=\"1\" class=\"dataframe\">\n",
       "  <thead>\n",
       "    <tr style=\"text-align: right;\">\n",
       "      <th></th>\n",
       "      <th>the</th>\n",
       "      <th>a</th>\n",
       "      <th>to</th>\n",
       "      <th>i</th>\n",
       "      <th>and</th>\n",
       "      <th>is</th>\n",
       "      <th>of</th>\n",
       "      <th>in</th>\n",
       "      <th>for</th>\n",
       "      <th>you</th>\n",
       "      <th>...</th>\n",
       "      <th>selena’s</th>\n",
       "      <th>https://t.co/sk57pomatq</th>\n",
       "      <th>https://t.co/lkgtjadx8a</th>\n",
       "      <th>https://t.co/dm71uck405</th>\n",
       "      <th>#leanmanufactu…https://t.co/h5pi007ucr</th>\n",
       "      <th>⬇️⬇️⬇️⬇️⬇️⬇️⬇️⬇️👀👀👀👀👀👀👀👀👀👀👀👀👀#hokies</th>\n",
       "      <th>babe...</th>\n",
       "      <th>#indispensable</th>\n",
       "      <th>begotten)</th>\n",
       "      <th>regression,</th>\n",
       "    </tr>\n",
       "    <tr>\n",
       "      <th>Date</th>\n",
       "      <th></th>\n",
       "      <th></th>\n",
       "      <th></th>\n",
       "      <th></th>\n",
       "      <th></th>\n",
       "      <th></th>\n",
       "      <th></th>\n",
       "      <th></th>\n",
       "      <th></th>\n",
       "      <th></th>\n",
       "      <th></th>\n",
       "      <th></th>\n",
       "      <th></th>\n",
       "      <th></th>\n",
       "      <th></th>\n",
       "      <th></th>\n",
       "      <th></th>\n",
       "      <th></th>\n",
       "      <th></th>\n",
       "      <th></th>\n",
       "      <th></th>\n",
       "    </tr>\n",
       "  </thead>\n",
       "  <tbody>\n",
       "    <tr>\n",
       "      <th>2019-08-25</th>\n",
       "      <td>0.0</td>\n",
       "      <td>0.0</td>\n",
       "      <td>0.0</td>\n",
       "      <td>0.0</td>\n",
       "      <td>0.0</td>\n",
       "      <td>0.0</td>\n",
       "      <td>0.0</td>\n",
       "      <td>0.0</td>\n",
       "      <td>0.0</td>\n",
       "      <td>0.0</td>\n",
       "      <td>...</td>\n",
       "      <td>NaN</td>\n",
       "      <td>NaN</td>\n",
       "      <td>NaN</td>\n",
       "      <td>NaN</td>\n",
       "      <td>NaN</td>\n",
       "      <td>NaN</td>\n",
       "      <td>NaN</td>\n",
       "      <td>NaN</td>\n",
       "      <td>NaN</td>\n",
       "      <td>NaN</td>\n",
       "    </tr>\n",
       "    <tr>\n",
       "      <th>2019-08-26</th>\n",
       "      <td>0.0</td>\n",
       "      <td>0.0</td>\n",
       "      <td>0.0</td>\n",
       "      <td>0.0</td>\n",
       "      <td>0.0</td>\n",
       "      <td>0.0</td>\n",
       "      <td>0.0</td>\n",
       "      <td>0.0</td>\n",
       "      <td>0.0</td>\n",
       "      <td>0.0</td>\n",
       "      <td>...</td>\n",
       "      <td>NaN</td>\n",
       "      <td>NaN</td>\n",
       "      <td>NaN</td>\n",
       "      <td>NaN</td>\n",
       "      <td>NaN</td>\n",
       "      <td>NaN</td>\n",
       "      <td>NaN</td>\n",
       "      <td>NaN</td>\n",
       "      <td>NaN</td>\n",
       "      <td>NaN</td>\n",
       "    </tr>\n",
       "    <tr>\n",
       "      <th>2019-08-27</th>\n",
       "      <td>0.0</td>\n",
       "      <td>0.0</td>\n",
       "      <td>0.0</td>\n",
       "      <td>0.0</td>\n",
       "      <td>0.0</td>\n",
       "      <td>0.0</td>\n",
       "      <td>0.0</td>\n",
       "      <td>0.0</td>\n",
       "      <td>0.0</td>\n",
       "      <td>0.0</td>\n",
       "      <td>...</td>\n",
       "      <td>NaN</td>\n",
       "      <td>NaN</td>\n",
       "      <td>NaN</td>\n",
       "      <td>NaN</td>\n",
       "      <td>NaN</td>\n",
       "      <td>NaN</td>\n",
       "      <td>NaN</td>\n",
       "      <td>NaN</td>\n",
       "      <td>NaN</td>\n",
       "      <td>NaN</td>\n",
       "    </tr>\n",
       "    <tr>\n",
       "      <th>2019-08-28</th>\n",
       "      <td>0.0</td>\n",
       "      <td>0.0</td>\n",
       "      <td>0.0</td>\n",
       "      <td>0.0</td>\n",
       "      <td>0.0</td>\n",
       "      <td>0.0</td>\n",
       "      <td>0.0</td>\n",
       "      <td>0.0</td>\n",
       "      <td>0.0</td>\n",
       "      <td>0.0</td>\n",
       "      <td>...</td>\n",
       "      <td>NaN</td>\n",
       "      <td>NaN</td>\n",
       "      <td>NaN</td>\n",
       "      <td>NaN</td>\n",
       "      <td>NaN</td>\n",
       "      <td>NaN</td>\n",
       "      <td>NaN</td>\n",
       "      <td>NaN</td>\n",
       "      <td>NaN</td>\n",
       "      <td>NaN</td>\n",
       "    </tr>\n",
       "    <tr>\n",
       "      <th>2019-08-29</th>\n",
       "      <td>0.0</td>\n",
       "      <td>0.0</td>\n",
       "      <td>0.0</td>\n",
       "      <td>0.0</td>\n",
       "      <td>0.0</td>\n",
       "      <td>0.0</td>\n",
       "      <td>0.0</td>\n",
       "      <td>0.0</td>\n",
       "      <td>0.0</td>\n",
       "      <td>0.0</td>\n",
       "      <td>...</td>\n",
       "      <td>NaN</td>\n",
       "      <td>NaN</td>\n",
       "      <td>NaN</td>\n",
       "      <td>NaN</td>\n",
       "      <td>NaN</td>\n",
       "      <td>NaN</td>\n",
       "      <td>NaN</td>\n",
       "      <td>NaN</td>\n",
       "      <td>NaN</td>\n",
       "      <td>NaN</td>\n",
       "    </tr>\n",
       "  </tbody>\n",
       "</table>\n",
       "<p>5 rows × 174066 columns</p>\n",
       "</div>"
      ],
      "text/plain": [
       "            the    a   to    i  and   is   of   in  for  you  ...  selena’s  \\\n",
       "Date                                                          ...             \n",
       "2019-08-25  0.0  0.0  0.0  0.0  0.0  0.0  0.0  0.0  0.0  0.0  ...       NaN   \n",
       "2019-08-26  0.0  0.0  0.0  0.0  0.0  0.0  0.0  0.0  0.0  0.0  ...       NaN   \n",
       "2019-08-27  0.0  0.0  0.0  0.0  0.0  0.0  0.0  0.0  0.0  0.0  ...       NaN   \n",
       "2019-08-28  0.0  0.0  0.0  0.0  0.0  0.0  0.0  0.0  0.0  0.0  ...       NaN   \n",
       "2019-08-29  0.0  0.0  0.0  0.0  0.0  0.0  0.0  0.0  0.0  0.0  ...       NaN   \n",
       "\n",
       "            https://t.co/sk57pomatq  https://t.co/lkgtjadx8a  \\\n",
       "Date                                                           \n",
       "2019-08-25                      NaN                      NaN   \n",
       "2019-08-26                      NaN                      NaN   \n",
       "2019-08-27                      NaN                      NaN   \n",
       "2019-08-28                      NaN                      NaN   \n",
       "2019-08-29                      NaN                      NaN   \n",
       "\n",
       "            https://t.co/dm71uck405  #leanmanufactu…https://t.co/h5pi007ucr  \\\n",
       "Date                                                                          \n",
       "2019-08-25                      NaN                                     NaN   \n",
       "2019-08-26                      NaN                                     NaN   \n",
       "2019-08-27                      NaN                                     NaN   \n",
       "2019-08-28                      NaN                                     NaN   \n",
       "2019-08-29                      NaN                                     NaN   \n",
       "\n",
       "            ⬇️⬇️⬇️⬇️⬇️⬇️⬇️⬇️👀👀👀👀👀👀👀👀👀👀👀👀👀#hokies  babe...  #indispensable  \\\n",
       "Date                                                                        \n",
       "2019-08-25                                   NaN      NaN             NaN   \n",
       "2019-08-26                                   NaN      NaN             NaN   \n",
       "2019-08-27                                   NaN      NaN             NaN   \n",
       "2019-08-28                                   NaN      NaN             NaN   \n",
       "2019-08-29                                   NaN      NaN             NaN   \n",
       "\n",
       "            begotten)  regression,  \n",
       "Date                                \n",
       "2019-08-25        NaN          NaN  \n",
       "2019-08-26        NaN          NaN  \n",
       "2019-08-27        NaN          NaN  \n",
       "2019-08-28        NaN          NaN  \n",
       "2019-08-29        NaN          NaN  \n",
       "\n",
       "[5 rows x 174066 columns]"
      ]
     },
     "execution_count": 17,
     "metadata": {},
     "output_type": "execute_result"
    }
   ],
   "source": [
    "new_TFIDF = TFIDF.drop(labels = remove_list,axis = 1)\n",
    "new_TFIDF.head()"
   ]
  },
  {
   "cell_type": "code",
   "execution_count": 18,
   "metadata": {},
   "outputs": [],
   "source": [
    "# list of each row entry\n",
    "row_list = [new_TFIDF.iloc[i].sort_values(ascending=False)\n",
    "            for i in range(0,len(new_TFIDF))]\n",
    "#print(row_list[45].sort_values(ascending=False))\n"
   ]
  },
  {
   "cell_type": "markdown",
   "metadata": {},
   "source": [
    "### Plotting\n",
    "For each day, the word with the largest TFIDF value will be plotted."
   ]
  },
  {
   "cell_type": "code",
   "execution_count": 19,
   "metadata": {},
   "outputs": [],
   "source": [
    "l_dates = list(new_TFIDF.index.values)\n",
    "dates = matplotlib.dates.date2num(l_dates)"
   ]
  },
  {
   "cell_type": "code",
   "execution_count": 21,
   "metadata": {
    "scrolled": false
   },
   "outputs": [
    {
     "data": {
      "image/png": "[encoded data removed]",
      "text/plain": [
       "<Figure size 1080x1800 with 1 Axes>"
      ]
     },
     "metadata": {
      "needs_background": "light"
     },
     "output_type": "display_data"
    }
   ],
   "source": [
    "max_terms = [i.max() for i in row_list]\n",
    "max_words = [i.idxmax() for i in row_list]\n",
    "\n",
    "plt.plot_date(dates,max_terms)\n",
    "rcParams['figure.figsize'] = 15,25;\n",
    "for i in range(0,len(row_list)):\n",
    "    plt.annotate(max_words[i],(dates[i],max_terms[i]));"
   ]
  },
  {
   "cell_type": "markdown",
   "metadata": {},
   "source": [
    "## Initial Findings\n",
    "The graph produced shows the terms with the highest TFIDF score among all tweets for each day. Immediatley events are noticeable, such as a climate strike, the Fortnite 1v100 event, and the VT vs Duke game. \n",
    "\n",
    "## Next Step\n",
    "To find events that have occured, I will simply print out the top words from a given day. I will initially target Fridays and Saturdays as these are when many events occur."
   ]
  },
  {
   "cell_type": "code",
   "execution_count": 22,
   "metadata": {},
   "outputs": [
    {
     "name": "stdout",
     "output_type": "stream",
     "text": [
      "['#vtsotu', '#gobblerfest', '#planetaryhealth2019', 'gobblerfest', 'trubisky', '*', '💛majoring', '💜vt', '09/05/19', 'initiate', 'psp', 'aquaculture', '*.', '💜beta', 'sands:', '09/04/19', 'sophia', '.@vtsandsman', 'chronic', '#beatodu']\n",
      "['smartt', 'odu', '#beatodu', '#2kday', '#norisk', 'kumah', 'dominion', 'monarchs', '#vtfanphoto', 'willis', 'grimsley', '31-17', 'yards', '#giveaway', 'odu.', 'yards,', '#odu', '10-3', '24-3', 'keshawn']\n"
     ]
    }
   ],
   "source": [
    "#first firday index = 5, saturday = 6 (aug 30/31)\n",
    "# helper function will return list of top n most unique terms on \n",
    "# the day with index ind. ind=0 represents 08/25/2019.\n",
    "def top_terms(n = 5,ind =0):\n",
    "    terms = list(row_list[ind].index.values)\n",
    "    return terms[:n]\n",
    "print(top_terms(20,12))\n",
    "print(top_terms(20,13))\n"
   ]
  },
  {
   "cell_type": "markdown",
   "metadata": {},
   "source": [
    "### First Event Discovered\n",
    "Even as a none football fan it was easy to identify that on Septermber 7th, VT football beat ODU 31-17. Also over this same weekend, it appears that Gobblerfest took place (on the Friday, so Septermber 6th). Using my helper function, it will be easy to identify many of the events and other activities that took place in Blacksburg over the weekends (and any other day if needed). Next I will look 2 weeks ahead.\n"
   ]
  },
  {
   "cell_type": "code",
   "execution_count": 23,
   "metadata": {},
   "outputs": [
    {
     "name": "stdout",
     "output_type": "stream",
     "text": [
      "['#demdebate', '#g2great', 'phonics', 'poggers', 'slye', 'norv', '13,', 'sep', 'castro', 'cam', 'ru-1', 'joey', '#democraticdebate', 'panthers', 'newton', '#keeppounding', '#fridaythe13th', 'tazewell', '#archives', 'goal!']\n",
      "['furman', 'loc:', 'ww?', 'wishlist', 'paladins', 'want:', '#firejustinfuente', 'wtt/wts', 'album:', 'group:', 'have:', '$7', '14-3', '14,', 'keshawn', 'ru-1', 'willis', 'thunderstorm', '#beatfurman', 'grainger']\n"
     ]
    }
   ],
   "source": [
    "print(top_terms(20,19))\n",
    "print(top_terms(20,20))"
   ]
  },
  {
   "cell_type": "markdown",
   "metadata": {},
   "source": [
    "Again events are immediately noticeable. On Sepetermber 13th, a Friday, it was Friday the 13th. Also, someone still had thoughts on the Democratic Debate that had taken place the night before. The following day on September 14th, VT defeated Furman in football. Justin Fuente was a hot topic of discussion as he narrowly pulled out defeat over the much worse opponent."
   ]
  }
 ],
 "metadata": {
  "kernelspec": {
   "display_name": "Python 3",
   "language": "python",
   "name": "python3"
  },
  "language_info": {
   "codemirror_mode": {
    "name": "ipython",
    "version": 3
   },
   "file_extension": ".py",
   "mimetype": "text/x-python",
   "name": "python",
   "nbconvert_exporter": "python",
   "pygments_lexer": "ipython3",
   "version": "3.7.3"
  }
 },
 "nbformat": 4,
 "nbformat_minor": 2
}
